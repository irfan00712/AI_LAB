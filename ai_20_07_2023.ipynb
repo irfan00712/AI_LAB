{
  "nbformat": 4,
  "nbformat_minor": 0,
  "metadata": {
    "colab": {
      "provenance": []
    },
    "kernelspec": {
      "name": "python3",
      "display_name": "Python 3"
    },
    "language_info": {
      "name": "python"
    }
  },
  "cells": [
    {
      "cell_type": "code",
      "source": [
        "thislist = [\"alvi\", \"pranto\", \"asif\", \"khairul\", \"adnan\"]\n",
        "print(thislist)"
      ],
      "metadata": {
        "colab": {
          "base_uri": "https://localhost:8080/"
        },
        "id": "K6r3p7eXEdLd",
        "outputId": "c03b9d7c-e507-443b-9ef2-ee423997ff44"
      },
      "execution_count": null,
      "outputs": [
        {
          "output_type": "stream",
          "name": "stdout",
          "text": [
            "['alvi', 'pranto', 'asif', 'khairul', 'adnan']\n"
          ]
        }
      ]
    },
    {
      "cell_type": "code",
      "source": [
        "print(thislist[1])"
      ],
      "metadata": {
        "colab": {
          "base_uri": "https://localhost:8080/"
        },
        "id": "cCGSouf0E8ZV",
        "outputId": "675d4ae7-7446-49ad-fb8c-821d1699b745"
      },
      "execution_count": null,
      "outputs": [
        {
          "output_type": "stream",
          "name": "stdout",
          "text": [
            "pranto\n"
          ]
        }
      ]
    },
    {
      "cell_type": "code",
      "source": [
        "print(thislist[-1])"
      ],
      "metadata": {
        "colab": {
          "base_uri": "https://localhost:8080/"
        },
        "id": "HAbAVwGCFCdd",
        "outputId": "693656e2-5178-448e-a953-990b49478adb"
      },
      "execution_count": null,
      "outputs": [
        {
          "output_type": "stream",
          "name": "stdout",
          "text": [
            "adnan\n"
          ]
        }
      ]
    },
    {
      "cell_type": "code",
      "source": [
        "print(thislist[2:5])"
      ],
      "metadata": {
        "colab": {
          "base_uri": "https://localhost:8080/"
        },
        "id": "skDZXekSFQiF",
        "outputId": "c22ead4c-0479-4059-ec70-23ffbc90054f"
      },
      "execution_count": null,
      "outputs": [
        {
          "output_type": "stream",
          "name": "stdout",
          "text": [
            "['asif', 'khairul', 'adnan']\n"
          ]
        }
      ]
    },
    {
      "cell_type": "code",
      "source": [
        "print(thislist[:4])"
      ],
      "metadata": {
        "colab": {
          "base_uri": "https://localhost:8080/"
        },
        "id": "Hi6olJP1FTKd",
        "outputId": "d04d017e-b300-4573-fe14-cb6e8f1e145b"
      },
      "execution_count": null,
      "outputs": [
        {
          "output_type": "stream",
          "name": "stdout",
          "text": [
            "['alvi', 'pranto', 'asif', 'khairul']\n"
          ]
        }
      ]
    },
    {
      "cell_type": "code",
      "source": [
        "print(thislist[2:])"
      ],
      "metadata": {
        "colab": {
          "base_uri": "https://localhost:8080/"
        },
        "id": "YYtHk9k9FV39",
        "outputId": "fea1a8ab-f5cf-4dfd-e580-ae343b6d77ed"
      },
      "execution_count": null,
      "outputs": [
        {
          "output_type": "stream",
          "name": "stdout",
          "text": [
            "['asif', 'khairul', 'adnan']\n"
          ]
        }
      ]
    },
    {
      "cell_type": "code",
      "source": [
        "print(thislist[-4:-1])"
      ],
      "metadata": {
        "colab": {
          "base_uri": "https://localhost:8080/"
        },
        "id": "krH1my9bFY8V",
        "outputId": "11a540d4-63ca-46ae-a1c8-ccd7cd93bc76"
      },
      "execution_count": null,
      "outputs": [
        {
          "output_type": "stream",
          "name": "stdout",
          "text": [
            "['pranto', 'asif', 'khairul']\n"
          ]
        }
      ]
    },
    {
      "cell_type": "code",
      "source": [
        "if \"alvi\" in thislist:\n",
        "  print(\"Yes, 'alvi' is in the student list\")\n",
        "else:\n",
        "  print(\"Not found\")"
      ],
      "metadata": {
        "colab": {
          "base_uri": "https://localhost:8080/"
        },
        "id": "bMD3E2sTFg7H",
        "outputId": "170cf1ab-7700-42f7-90f6-fd5610fc0342"
      },
      "execution_count": null,
      "outputs": [
        {
          "output_type": "stream",
          "name": "stdout",
          "text": [
            "Not found\n"
          ]
        }
      ]
    },
    {
      "cell_type": "code",
      "source": [
        "thislist[1] = \"ali\"\n",
        "print(thislist)"
      ],
      "metadata": {
        "colab": {
          "base_uri": "https://localhost:8080/"
        },
        "id": "qjIGq1AFGGnG",
        "outputId": "2560a000-678d-4ff7-89dd-a9976de93242"
      },
      "execution_count": null,
      "outputs": [
        {
          "output_type": "stream",
          "name": "stdout",
          "text": [
            "['alvi', 'ali', 'asif', 'khairul', 'adnan']\n"
          ]
        }
      ]
    },
    {
      "cell_type": "code",
      "source": [
        "thislist[1:3] = [\"alom\", \"rony\"]\n",
        "print(thislist)"
      ],
      "metadata": {
        "colab": {
          "base_uri": "https://localhost:8080/"
        },
        "id": "iGqOMUqSGSY1",
        "outputId": "357ad01a-5278-49ee-e0e1-bcf815cf72c4"
      },
      "execution_count": null,
      "outputs": [
        {
          "output_type": "stream",
          "name": "stdout",
          "text": [
            "['alvi', 'alom', 'rony', 'khairul', 'adnan']\n"
          ]
        }
      ]
    },
    {
      "cell_type": "code",
      "source": [
        "thislist.insert(2, \"alif\")\n",
        "print(thislist)"
      ],
      "metadata": {
        "colab": {
          "base_uri": "https://localhost:8080/"
        },
        "id": "71un8_IYGoG1",
        "outputId": "b37f4986-f01d-45bc-d52d-765814205481"
      },
      "execution_count": null,
      "outputs": [
        {
          "output_type": "stream",
          "name": "stdout",
          "text": [
            "['alvi', 'alom', 'alif', 'rony', 'khairul', 'adnan']\n"
          ]
        }
      ]
    },
    {
      "cell_type": "code",
      "source": [
        "thislist.append(\"ovi\")\n",
        "print(thislist)"
      ],
      "metadata": {
        "colab": {
          "base_uri": "https://localhost:8080/"
        },
        "id": "nrovgAzUG1bm",
        "outputId": "746f5038-9449-440f-bdc0-748a49e6a74c"
      },
      "execution_count": null,
      "outputs": [
        {
          "output_type": "stream",
          "name": "stdout",
          "text": [
            "['alvi', 'alom', 'alif', 'rony', 'khairul', 'adnan', 'ovi']\n"
          ]
        }
      ]
    },
    {
      "cell_type": "code",
      "source": [
        "tropical = [\"sojib\", \"yousuf\", \"saha\"]\n",
        "thislist.extend(tropical)\n",
        "print(thislist)"
      ],
      "metadata": {
        "colab": {
          "base_uri": "https://localhost:8080/"
        },
        "id": "1ECzIvAHHEVV",
        "outputId": "c6c3d577-5549-4e85-d65e-07f4611e78f5"
      },
      "execution_count": null,
      "outputs": [
        {
          "output_type": "stream",
          "name": "stdout",
          "text": [
            "['alvi', 'alom', 'alif', 'rony', 'khairul', 'adnan', 'ovi', 'sojib', 'yousuf', 'saha']\n"
          ]
        }
      ]
    },
    {
      "cell_type": "code",
      "source": [
        "thislist.remove(\"sojib\")\n",
        "print(thislist)"
      ],
      "metadata": {
        "colab": {
          "base_uri": "https://localhost:8080/"
        },
        "id": "K3FC2sDQHSPF",
        "outputId": "af49133a-445c-4693-a0d3-7adaca8daa06"
      },
      "execution_count": null,
      "outputs": [
        {
          "output_type": "stream",
          "name": "stdout",
          "text": [
            "['alvi', 'alom', 'alif', 'rony', 'khairul', 'adnan', 'ovi', 'yousuf', 'saha']\n"
          ]
        }
      ]
    },
    {
      "cell_type": "code",
      "source": [
        "thislist.pop(1)\n",
        "print(thislist)"
      ],
      "metadata": {
        "colab": {
          "base_uri": "https://localhost:8080/"
        },
        "id": "7XtnzyayHY0V",
        "outputId": "3f007bd1-727d-4f82-b159-5b911a84b316"
      },
      "execution_count": null,
      "outputs": [
        {
          "output_type": "stream",
          "name": "stdout",
          "text": [
            "['alvi', 'alif', 'rony', 'khairul', 'adnan', 'ovi', 'yousuf', 'saha']\n"
          ]
        }
      ]
    },
    {
      "cell_type": "code",
      "source": [
        "thislist.pop()\n",
        "print(thislist)"
      ],
      "metadata": {
        "colab": {
          "base_uri": "https://localhost:8080/"
        },
        "id": "4HJZokXoHd91",
        "outputId": "59d58adf-fb14-4241-a55f-ac5a9a8952ae"
      },
      "execution_count": null,
      "outputs": [
        {
          "output_type": "stream",
          "name": "stdout",
          "text": [
            "['alvi', 'alif', 'rony', 'khairul', 'adnan', 'ovi', 'yousuf']\n"
          ]
        }
      ]
    },
    {
      "cell_type": "code",
      "source": [
        "del thislist[0]\n",
        "print(thislist)"
      ],
      "metadata": {
        "colab": {
          "base_uri": "https://localhost:8080/"
        },
        "id": "tzlxcD56HnK-",
        "outputId": "9e4347c8-15e2-4d0d-f945-4f92ea9f19d4"
      },
      "execution_count": null,
      "outputs": [
        {
          "output_type": "stream",
          "name": "stdout",
          "text": [
            "['alif', 'rony', 'khairul', 'adnan', 'ovi', 'yousuf']\n"
          ]
        }
      ]
    },
    {
      "cell_type": "code",
      "source": [
        "thislist.clear()\n",
        "print(thislist)"
      ],
      "metadata": {
        "colab": {
          "base_uri": "https://localhost:8080/"
        },
        "id": "eHIjtPPzIDA1",
        "outputId": "d657db71-2052-4699-acc3-cec33eb83e8e"
      },
      "execution_count": null,
      "outputs": [
        {
          "output_type": "stream",
          "name": "stdout",
          "text": [
            "[]\n"
          ]
        }
      ]
    },
    {
      "cell_type": "code",
      "source": [
        "thislist = [\"alvi\", \"pranto\", \"asif\", \"khairul\", \"adnan\"]\n",
        "for x in thislist:\n",
        "  print(x)"
      ],
      "metadata": {
        "colab": {
          "base_uri": "https://localhost:8080/"
        },
        "id": "YTjPG5qQIKzd",
        "outputId": "53d11a0e-9dbf-4063-f800-09a6d9a63967"
      },
      "execution_count": null,
      "outputs": [
        {
          "output_type": "stream",
          "name": "stdout",
          "text": [
            "alvi\n",
            "pranto\n",
            "asif\n",
            "khairul\n",
            "adnan\n"
          ]
        }
      ]
    },
    {
      "cell_type": "code",
      "source": [
        "for i in range(len(thislist)):\n",
        "  print(thislist[i])"
      ],
      "metadata": {
        "colab": {
          "base_uri": "https://localhost:8080/"
        },
        "id": "WLrdZitMISef",
        "outputId": "0d75ef2f-070d-46a6-eadb-f4622538f4e3"
      },
      "execution_count": null,
      "outputs": [
        {
          "output_type": "stream",
          "name": "stdout",
          "text": [
            "alvi\n",
            "pranto\n",
            "asif\n",
            "khairul\n",
            "adnan\n"
          ]
        }
      ]
    },
    {
      "cell_type": "code",
      "source": [
        "i = 0\n",
        "while i < len(thislist):\n",
        "  print(thislist[i])\n",
        "  i = i + 1"
      ],
      "metadata": {
        "colab": {
          "base_uri": "https://localhost:8080/"
        },
        "id": "ANngyoEZIaRN",
        "outputId": "f54cd4ef-b61f-43c0-d1dd-063d76f3687c"
      },
      "execution_count": null,
      "outputs": [
        {
          "output_type": "stream",
          "name": "stdout",
          "text": [
            "alvi\n",
            "pranto\n",
            "asif\n",
            "khairul\n",
            "adnan\n"
          ]
        }
      ]
    },
    {
      "cell_type": "code",
      "source": [
        "thislist = [\"alvi\", \"pranto\", \"asif\", \"khairul\", \"adnan\"]\n",
        "[print(x) for x in thislist]"
      ],
      "metadata": {
        "colab": {
          "base_uri": "https://localhost:8080/"
        },
        "id": "YNw0y3QBIvLV",
        "outputId": "e7336821-2d05-4175-da23-23ad92a2ae0d"
      },
      "execution_count": null,
      "outputs": [
        {
          "output_type": "stream",
          "name": "stdout",
          "text": [
            "alvi\n",
            "pranto\n",
            "asif\n",
            "khairul\n",
            "adnan\n"
          ]
        },
        {
          "output_type": "execute_result",
          "data": {
            "text/plain": [
              "[None, None, None, None, None]"
            ]
          },
          "metadata": {},
          "execution_count": 45
        }
      ]
    },
    {
      "cell_type": "code",
      "source": [
        "thislist.sort()\n",
        "print(thislist)"
      ],
      "metadata": {
        "colab": {
          "base_uri": "https://localhost:8080/"
        },
        "id": "DmADkkWDJag9",
        "outputId": "ab7caad5-ced4-4a84-927f-44f2ebeb4c1c"
      },
      "execution_count": null,
      "outputs": [
        {
          "output_type": "stream",
          "name": "stdout",
          "text": [
            "['adnan', 'alvi', 'asif', 'khairul', 'pranto']\n"
          ]
        }
      ]
    },
    {
      "cell_type": "code",
      "source": [
        "thislist.sort(reverse = True)\n",
        "print(thislist)"
      ],
      "metadata": {
        "colab": {
          "base_uri": "https://localhost:8080/"
        },
        "id": "78crruJlJeay",
        "outputId": "b0f6e90e-3469-4bf4-cc4c-8c5e9922e999"
      },
      "execution_count": null,
      "outputs": [
        {
          "output_type": "stream",
          "name": "stdout",
          "text": [
            "['pranto', 'khairul', 'asif', 'alvi', 'adnan']\n"
          ]
        }
      ]
    },
    {
      "cell_type": "code",
      "source": [
        "thislist.sort(key = str.lower)\n",
        "print(thislist)"
      ],
      "metadata": {
        "colab": {
          "base_uri": "https://localhost:8080/"
        },
        "id": "rGlTAQVRJrym",
        "outputId": "f70067fd-646a-4a9d-fc20-eee023de16ea"
      },
      "execution_count": null,
      "outputs": [
        {
          "output_type": "stream",
          "name": "stdout",
          "text": [
            "['adnan', 'alvi', 'asif', 'khairul', 'pranto']\n"
          ]
        }
      ]
    },
    {
      "cell_type": "code",
      "source": [
        "thislist.reverse()\n",
        "print(thislist)"
      ],
      "metadata": {
        "colab": {
          "base_uri": "https://localhost:8080/"
        },
        "id": "1QwQ4KwaJ7Le",
        "outputId": "731fa35c-201f-4169-d886-65a6153918d3"
      },
      "execution_count": null,
      "outputs": [
        {
          "output_type": "stream",
          "name": "stdout",
          "text": [
            "['pranto', 'khairul', 'asif', 'alvi', 'adnan']\n"
          ]
        }
      ]
    },
    {
      "cell_type": "code",
      "source": [
        "f = open(\"alvi.txt\")"
      ],
      "metadata": {
        "id": "zY2hxEuyLert"
      },
      "execution_count": null,
      "outputs": []
    },
    {
      "cell_type": "code",
      "source": [
        "f = open(\"alvi.txt\", \"rt\")"
      ],
      "metadata": {
        "id": "2kDvbQ6TLjOm"
      },
      "execution_count": null,
      "outputs": []
    },
    {
      "cell_type": "code",
      "source": [
        "print(f.read())"
      ],
      "metadata": {
        "colab": {
          "base_uri": "https://localhost:8080/"
        },
        "id": "GtUM1m1zLp3-",
        "outputId": "11b4d2ab-b660-4807-b7fd-ec440f3d1f9d"
      },
      "execution_count": null,
      "outputs": [
        {
          "output_type": "stream",
          "name": "stdout",
          "text": [
            "adnan, alvi, asif, khairul, pranto\n",
            "apple, banana, cherry\n",
            "\n"
          ]
        }
      ]
    },
    {
      "cell_type": "code",
      "source": [
        "f = open(\"alvi.txt\", \"a\")\n",
        "f.write(\"Now the file has more content!\")\n",
        "f.close()\n",
        "\n",
        "f = open(\"alvi.txt\", \"r\")\n",
        "print(f.read())"
      ],
      "metadata": {
        "colab": {
          "base_uri": "https://localhost:8080/"
        },
        "id": "3Io1zECHM5UH",
        "outputId": "116b6ec4-a8c8-4262-c238-8942e7e02636"
      },
      "execution_count": null,
      "outputs": [
        {
          "output_type": "stream",
          "name": "stdout",
          "text": [
            "adnan, alvi, asif, khairul, pranto\n",
            "apple, banana, cherry\n",
            "Now the file has more content!\n"
          ]
        }
      ]
    },
    {
      "cell_type": "code",
      "source": [
        "f = open(\"alvi.txt\", \"w\")\n",
        "f.write(\"Woops! I have deleted the content!\")\n",
        "f.close()\n",
        "\n",
        "#open and read the file after the overwriting:\n",
        "f = open(\"alvi.txt\", \"r\")\n",
        "print(f.read())"
      ],
      "metadata": {
        "colab": {
          "base_uri": "https://localhost:8080/"
        },
        "id": "foOEUw4LNLi_",
        "outputId": "22cd347c-71a5-4425-8d5d-735da830abcb"
      },
      "execution_count": null,
      "outputs": [
        {
          "output_type": "stream",
          "name": "stdout",
          "text": [
            "Woops! I have deleted the content!\n"
          ]
        }
      ]
    },
    {
      "cell_type": "code",
      "source": [
        "import os\n",
        "os.remove(\"alvi.txt\")"
      ],
      "metadata": {
        "id": "Fn9OndUgNw6H"
      },
      "execution_count": null,
      "outputs": []
    }
  ]
}